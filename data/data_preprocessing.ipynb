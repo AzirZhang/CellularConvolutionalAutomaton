{
 "cells": [
  {
   "cell_type": "code",
   "execution_count": null,
   "metadata": {},
   "outputs": [],
   "source": [
    "import pandas as pd\n",
    "import torch\n",
    "import matplotlib.pyplot as plt\n",
    "from sklearn import linear_model        #表示，可以调用sklearn中的linear_model模块进行线性回归。\n",
    "import numpy as np\n",
    "er_temp_df = pd.read_csv('.\\\\raw\\\\dataset-S4.CSV').iloc[:,1:]\n",
    "dr_temp_df = pd.read_csv('.\\\\raw\\\\dataset-S5.CSV').iloc[:,[1,2,3,5,6,7]]\n",
    "er_moisture_df = pd.read_csv('.\\\\raw\\\\fungal_biogeography\\\\fungi_data\\\\Fungi_moisture_curves.csv')\n",
    "traites_df = pd.read_csv('.\\\\raw\\\\Fungal_trait_data.csv')# .iloc[:,[1,2,3,5,6,7]]"
   ]
  },
  {
   "cell_type": "markdown",
   "metadata": {
    "pycharm": {
     "name": "#%% md\n"
    }
   },
   "source": [
    "# Data Preprocessing"
   ]
  },
  {
   "cell_type": "code",
   "execution_count": null,
   "metadata": {
    "pycharm": {
     "name": "#%%\n"
    }
   },
   "outputs": [],
   "source": [
    "er_temp_tensor = torch.tensor(er_temp_df.values)\n",
    "dr_temp_tensor = torch.tensor(dr_temp_df.values)"
   ]
  },
  {
   "cell_type": "code",
   "execution_count": null,
   "metadata": {
    "pycharm": {
     "name": "#%%\n"
    }
   },
   "outputs": [],
   "source": [
    "er_temp = pd.DataFrame(columns=['slope', 'intercept'])\n",
    "for i in range(34):\n",
    "    model = linear_model.LinearRegression()\n",
    "    model.fit(np.array([[10],[16],[22]]), torch.log(er_temp_tensor[i, 0:3]))\n",
    "    er_temp = er_temp.append({'slope':model.coef_[0], 'intercept':model.intercept_}, ignore_index=True)\n",
    "\n",
    "er_temp.insert(2, 'range', torch.mean(er_temp_tensor[:,3:], dim=1).tolist())\n",
    "er_temp.to_csv('.\\\\er_temp.csv', index_label=False)"
   ]
  },
  {
   "cell_type": "code",
   "execution_count": null,
   "metadata": {},
   "outputs": [],
   "source": [
    "traites_df.iloc[:,1].to_csv('.\\\\traits_map.csv')"
   ]
  },
  {
   "cell_type": "markdown",
   "metadata": {},
   "source": [
    "# Data Analysis"
   ]
  },
  {
   "cell_type": "markdown",
   "metadata": {},
   "source": [
    "### Relationship Between Extension Rate and Temperature"
   ]
  },
  {
   "cell_type": "code",
   "execution_count": null,
   "metadata": {
    "pycharm": {
     "name": "#%%\n"
    },
    "scrolled": true
   },
   "outputs": [],
   "source": [
    "for i in range(34):\n",
    "    plt.plot([10,16,22], er_temp_tensor[i,0:3])\n",
    "plt.yscale('log')\n",
    "plt.xlabel('temperature')\n",
    "plt.ylabel('log (extension rate)')\n",
    "plt.show()"
   ]
  },
  {
   "cell_type": "code",
   "execution_count": null,
   "metadata": {},
   "outputs": [],
   "source": [
    "for i in range(34):\n",
    "    plt.plot([10,16,22], er_temp_tensor[i,3:])\n",
    "plt.xlabel('temperature')\n",
    "plt.ylabel('delta extension rate)')\n",
    "plt.show()"
   ]
  },
  {
   "cell_type": "code",
   "execution_count": null,
   "metadata": {},
   "outputs": [],
   "source": [
    "for i in range(3):\n",
    "    x = er_temp_tensor[:,i]\n",
    "    y = dr_temp_tensor[:,i]\n",
    "    X = torch.cat([x.reshape(34,1), x.reshape(34,1)**0.5], dim=1)\n",
    "    model = linear_model.LinearRegression()\n",
    "    model.fit(X,y)\n",
    "    linspace = np.linspace(0,torch.max(x).item())\n",
    "    polyspace = np.transpose([linspace, linspace**0.5])\n",
    "    prediction = model.predict(polyspace)\n",
    "    plt.scatter(x, y)\n",
    "    plt.plot(linspace, prediction)\n",
    "    plt.xlabel('extensition rate')\n",
    "    plt.ylabel('decomposition rate')\n",
    "plt.show()\n"
   ]
  },
  {
   "cell_type": "code",
   "execution_count": null,
   "metadata": {},
   "outputs": [],
   "source": [
    "from torch import nn\n",
    "class FungusMoisture(nn.Module):\n",
    "    def __init__(self):\n",
    "        super(FungusMoisture, self).__init__()\n",
    "        layers = [nn.Linear(1, 32), nn.ELU(),nn.Linear(32, 256),nn.ELU(), nn.Linear(256, 1024),nn.ELU(),\n",
    "                  nn.Linear(1024, 1024),nn.ELU(),nn.Linear(1024, 256), nn.ELU(),nn.Linear(256, 32),nn.ELU(),\n",
    "                  nn.Linear(32, 1),nn.ELU()]\n",
    "        self.learner = nn.Sequential(*layers)\n",
    "\n",
    "    def forward(self, x):\n",
    "        return self.learner(x)\n",
    "\n",
    "    def save(self, name):\n",
    "        torch.save(self.state_dict(), f'.\\\\er_wp_map\\\\{name}.txt')\n",
    "\n",
    "    def load(self, name):\n",
    "        self.load_state_dict(torch.load(f'.\\\\er_wp_map\\\\{name}.txt'))\n",
    "        self.eval()\n",
    "\n",
    "_traits_map_df = pd.read_csv('.\\\\traits_map.csv')\n",
    "traits_map = dict(zip(_traits_map_df.iloc[:, 0].values, _traits_map_df.iloc[:, 1].values))\n",
    "\n",
    "\n",
    "\n",
    "def plot(num_showing = 0):\n",
    "    global traits_map, er_moisture_df\n",
    "    model = FungusMoisture().cuda()\n",
    "    model.load(num_showing)\n",
    "    trait = traits_map[num_showing]\n",
    "    groups = er_moisture_df.groupby('species').groups\n",
    "    idxes = groups[trait]\n",
    "    \n",
    "    test_x = torch.linspace(-5,0,100, device='cuda:0').reshape(100,1,1)\n",
    "    test_y = model(test_x)\n",
    "    # plt.scatter(er_moisture_df.iloc[idxes,1], er_moisture_df.iloc[idxes,2])\n",
    "    plt.plot(test_x.cpu().reshape(100), test_y.detach().cpu().reshape(100))\n",
    "    \n",
    "\n",
    "for i in range(34):\n",
    "    plot(i)\n",
    "plt.xlabel('Matric Water Potential')\n",
    "plt.ylabel('Extension Rate')\n",
    "plt.show()"
   ]
  },
  {
   "cell_type": "code",
   "execution_count": null,
   "metadata": {
    "scrolled": true
   },
   "outputs": [],
   "source": [
    "\n",
    "def scatter(num_showing = 0):\n",
    "    global traits_map, er_moisture_df\n",
    "    trait = traits_map[num_showing]\n",
    "    groups = er_moisture_df.groupby('species').groups\n",
    "    idxes = groups[trait]\n",
    "    plt.scatter(er_moisture_df.iloc[idxes,1], er_moisture_df.iloc[idxes,2])\n",
    "    \n",
    "for i in range(34):\n",
    "    scatter(i)\n",
    "plt.xlabel('Matric Water Potential')\n",
    "plt.ylabel('Extension Rate')\n",
    "plt.show()"
   ]
  }
 ],
 "metadata": {
  "kernelspec": {
   "display_name": "Python 3",
   "language": "python",
   "name": "python3"
  },
  "language_info": {
   "codemirror_mode": {
    "name": "ipython",
    "version": 3
   },
   "file_extension": ".py",
   "mimetype": "text/x-python",
   "name": "python",
   "nbconvert_exporter": "python",
   "pygments_lexer": "ipython3",
   "version": "3.8.0"
  }
 },
 "nbformat": 4,
 "nbformat_minor": 1
}
